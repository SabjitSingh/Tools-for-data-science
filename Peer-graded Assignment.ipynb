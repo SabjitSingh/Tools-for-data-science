{
 "cells": [
  {
   "cell_type": "markdown",
   "id": "029ae9e0",
   "metadata": {},
   "source": [
    "# My Jupyter Notebook on IBM Watson Studio"
   ]
  },
  {
   "cell_type": "markdown",
   "id": "2e9d9eea",
   "metadata": {},
   "source": [
    "**Sabjit Singh**\n",
    "\n",
    "**Data Scientist**"
   ]
  },
  {
   "cell_type": "markdown",
   "id": "17805522",
   "metadata": {},
   "source": [
    "*Data science is interesting to me because it combines math, computer science, and statistics with an eye for understanding how the world works*"
   ]
  },
  {
   "cell_type": "markdown",
   "id": "3947aabd",
   "metadata": {},
   "source": [
    "### Importing Numpy and to find square of random number"
   ]
  },
  {
   "cell_type": "code",
   "execution_count": 6,
   "id": "656ab7b5",
   "metadata": {},
   "outputs": [
    {
     "name": "stdout",
     "output_type": "stream",
     "text": [
      "4 squared is 16\n"
     ]
    }
   ],
   "source": [
    "import numpy as np\n",
    "def square(x):\n",
    "    return x * x\n",
    "x = np.random.randint(1, 10)\n",
    "y = square(x)\n",
    "print('%d squared is %d' % (x, y))"
   ]
  },
  {
   "cell_type": "markdown",
   "id": "d738e37e",
   "metadata": {},
   "source": [
    "***\n",
    "<a href=\"https://github.com/SabjitSingh/Recursion\" target=\"_blank\">Github link</a>\n",
    " - Bullet\n",
    " 1. first\n",
    " 2. Second"
   ]
  },
  {
   "cell_type": "code",
   "execution_count": null,
   "id": "64459236",
   "metadata": {},
   "outputs": [],
   "source": []
  }
 ],
 "metadata": {
  "kernelspec": {
   "display_name": "Python 3 (ipykernel)",
   "language": "python",
   "name": "python3"
  },
  "language_info": {
   "codemirror_mode": {
    "name": "ipython",
    "version": 3
   },
   "file_extension": ".py",
   "mimetype": "text/x-python",
   "name": "python",
   "nbconvert_exporter": "python",
   "pygments_lexer": "ipython3",
   "version": "3.9.7"
  }
 },
 "nbformat": 4,
 "nbformat_minor": 5
}
